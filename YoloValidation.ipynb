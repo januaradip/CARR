{
  "nbformat": 4,
  "nbformat_minor": 0,
  "metadata": {
    "colab": {
      "provenance": [],
      "gpuType": "T4"
    },
    "kernelspec": {
      "name": "python3",
      "display_name": "Python 3"
    },
    "language_info": {
      "name": "python"
    },
    "accelerator": "GPU"
  },
  "cells": [
    {
      "cell_type": "code",
      "execution_count": null,
      "metadata": {
        "id": "M8T26lernELQ"
      },
      "outputs": [],
      "source": [
        "!pip install ultralytics"
      ]
    },
    {
      "cell_type": "code",
      "source": [
        "from google.colab import drive\n",
        "drive.mount('/content/drive')"
      ],
      "metadata": {
        "id": "IrY8Y8YufPIG"
      },
      "execution_count": null,
      "outputs": []
    },
    {
      "cell_type": "code",
      "source": [
        "!cp -r \"Link of Dataset in your drive\" \"/content/\""
      ],
      "metadata": {
        "id": "nwUZau2LrTLv"
      },
      "execution_count": null,
      "outputs": []
    },
    {
      "cell_type": "code",
      "source": [
        "!unzip \"/content/Dataset.zip\" -d \"/content/\""
      ],
      "metadata": {
        "id": "EP_zlIZwsxQO"
      },
      "execution_count": null,
      "outputs": []
    },
    {
      "cell_type": "code",
      "source": [
        "from ultralytics import YOLO"
      ],
      "metadata": {
        "id": "t45evHUVs9B1"
      },
      "execution_count": null,
      "outputs": []
    },
    {
      "cell_type": "code",
      "source": [
        "model = YOLO('yolov8m.pt') #you can change the yolo version to yolov9, yolov10, yolov11 or yolov12"
      ],
      "metadata": {
        "id": "gdtsA2uRs_iw"
      },
      "execution_count": null,
      "outputs": []
    },
    {
      "cell_type": "code",
      "source": [
        "import torch\n",
        "print(torch.cuda.is_available())\n",
        "print(torch.cuda.device_count())\n",
        "print(torch.version.cuda)\n",
        "print(torch.backends.cudnn.version())"
      ],
      "metadata": {
        "id": "buMdlILgtFAR"
      },
      "execution_count": null,
      "outputs": []
    },
    {
      "cell_type": "markdown",
      "source": [
        "Technical validation using scenario 1 : epoch = 100, learning rate = 0.01 and batchsize = 16"
      ],
      "metadata": {
        "id": "avsk3GBYB8Pg"
      }
    },
    {
      "cell_type": "code",
      "source": [
        "model.train(data='/content/data.yaml',\n",
        "            epochs=100,\n",
        "            lr0=0.01,\n",
        "            optimizer=\"auto\",\n",
        "            batch=16,\n",
        "            resume=False,\n",
        "            project='project link',\n",
        "            name='train1',\n",
        "            patience=0,\n",
        "            plots=True)"
      ],
      "metadata": {
        "id": "D77bjdwQtqp0"
      },
      "execution_count": null,
      "outputs": []
    },
    {
      "cell_type": "markdown",
      "source": [
        "Technical validation using scenario 2 : epoch = 100, learning rate = 0.001, augment = true and batchsize = 16"
      ],
      "metadata": {
        "id": "lDFcte1wCQQM"
      }
    },
    {
      "cell_type": "code",
      "source": [
        "model.train(data='/content/data.yaml',\n",
        "            epochs=100,\n",
        "            lr0=0.001,\n",
        "            optimizer=\"auto\",\n",
        "            batch=16,\n",
        "            resume=False,\n",
        "            project='project link',\n",
        "            name='train2',\n",
        "            augment=True,\n",
        "            imgsz=640,\n",
        "            rect=True,\n",
        "            val=True,\n",
        "            plots=True)"
      ],
      "metadata": {
        "id": "2lBtV6EbO6Ne"
      },
      "execution_count": null,
      "outputs": []
    },
    {
      "cell_type": "markdown",
      "source": [
        "Technical validation using scenario 3 : epoch = 200, learning rate = 0.01 and batchsize = 16"
      ],
      "metadata": {
        "id": "mw9k6I-sCVLW"
      }
    },
    {
      "cell_type": "code",
      "source": [
        "model.train(data='/content/data.yaml',\n",
        "            epochs=200,\n",
        "            lr0=0.01,\n",
        "            optimizer=\"auto\",\n",
        "            batch=16,\n",
        "            resume=False,\n",
        "            project='project link',\n",
        "            name='train3',\n",
        "            patience=0,\n",
        "            plots=True)"
      ],
      "metadata": {
        "id": "2FcHRD6v__Db"
      },
      "execution_count": null,
      "outputs": []
    }
  ]
}